{
 "cells": [
  {
   "cell_type": "code",
   "execution_count": 1,
   "id": "be543566",
   "metadata": {},
   "outputs": [
    {
     "data": {
      "text/plain": [
       "NougatDecoder(\n",
       "  (decoder): MBartDecoder(\n",
       "    (word_embeddings): Embedding(50000, 1024)\n",
       "    (position_embeddings): Embedding(3586, 1024)\n",
       "    (layers): ModuleList(\n",
       "      (0-3): 4 x MBartLayer(\n",
       "        (self_attn): MBartSelfAttention(\n",
       "          (key): Linear(in_features=1024, out_features=1024, bias=True)\n",
       "          (value): Linear(in_features=1024, out_features=1024, bias=True)\n",
       "          (query): Linear(in_features=1024, out_features=1024, bias=True)\n",
       "          (out_proj): Linear(in_features=1024, out_features=1024, bias=True)\n",
       "        )\n",
       "        (ln1): LayerNorm((1024,), eps=1e-05, elementwise_affine=True)\n",
       "        (cross_attn): MBartSelfAttention(\n",
       "          (key): Linear(in_features=1024, out_features=1024, bias=True)\n",
       "          (value): Linear(in_features=1024, out_features=1024, bias=True)\n",
       "          (query): Linear(in_features=1024, out_features=1024, bias=True)\n",
       "          (out_proj): Linear(in_features=1024, out_features=1024, bias=True)\n",
       "        )\n",
       "        (ln2): LayerNorm((1024,), eps=1e-05, elementwise_affine=True)\n",
       "        (ffn): MBartFFN(\n",
       "          (fc1): Linear(in_features=1024, out_features=4096, bias=True)\n",
       "          (fc2): Linear(in_features=4096, out_features=1024, bias=True)\n",
       "        )\n",
       "        (ln3): LayerNorm((1024,), eps=1e-05, elementwise_affine=True)\n",
       "      )\n",
       "    )\n",
       "    (ln_begin): LayerNorm((1024,), eps=1e-05, elementwise_affine=True)\n",
       "    (ln_end): LayerNorm((1024,), eps=1e-05, elementwise_affine=True)\n",
       "  )\n",
       "  (lm_head): MBartLMHead(\n",
       "    (proj): Linear(in_features=1024, out_features=50000, bias=False)\n",
       "  )\n",
       ")"
      ]
     },
     "execution_count": 1,
     "metadata": {},
     "output_type": "execute_result"
    }
   ],
   "source": [
    "import os\n",
    "import torch\n",
    "\n",
    "from src.models import DonutSwinEncoder, NougatDecoder\n",
    "from transformers import NougatProcessor, VisionEncoderDecoderConfig\n",
    "\n",
    "ckpt = \"/Users/rohan/3_Resources/ai_models/nougat-small\"\n",
    "config = VisionEncoderDecoderConfig.from_pretrained(ckpt)\n",
    "processor = NougatProcessor.from_pretrained(ckpt)\n",
    "\n",
    "encoder = DonutSwinEncoder(config.encoder)\n",
    "decoder = NougatDecoder(\n",
    "  embed_dim=config.decoder.d_model,\n",
    "  num_layers=config.decoder.decoder_layers,\n",
    "  vocab_size=config.decoder.vocab_size,\n",
    "  scale_embedding=config.decoder.scale_embedding,\n",
    "  num_heads=config.decoder.decoder_attention_heads,\n",
    "  max_len=config.decoder.max_position_embeddings,\n",
    ")\n",
    "\n",
    "encoder.load_state_dict(torch.load(os.path.join(ckpt, 'encoder.bin')))\n",
    "decoder.load_state_dict(torch.load(os.path.join(ckpt, 'decoder.bin')))\n",
    "\n",
    "encoder.eval()\n",
    "decoder.eval()"
   ]
  },
  {
   "cell_type": "code",
   "execution_count": 2,
   "id": "b9a3d2eb",
   "metadata": {},
   "outputs": [],
   "source": [
    "from PIL import Image\n"
   ]
  },
  {
   "cell_type": "code",
   "execution_count": 3,
   "id": "9ecb12cd",
   "metadata": {},
   "outputs": [
    {
     "data": {
      "text/plain": [
       "torch.Size([2, 588, 1024])"
      ]
     },
     "execution_count": 3,
     "metadata": {},
     "output_type": "execute_result"
    }
   ],
   "source": [
    "image = Image.open('tmp.png').convert('RGB')\n",
    "pixel_values = processor([image, image], return_tensors='pt').pixel_values\n",
    "encoder_hidden_state = encoder(pixel_values)\n",
    "encoder_hidden_state.shape"
   ]
  },
  {
   "cell_type": "code",
   "execution_count": 4,
   "id": "58532489",
   "metadata": {},
   "outputs": [
    {
     "name": "stdout",
     "output_type": "stream",
     "text": [
      "torch.Size([2, 1])\n",
      "9\n",
      "torch.Size([2, 1])\n",
      "8\n",
      "torch.Size([2, 1])\n",
      "7\n",
      "torch.Size([2, 1])\n",
      "6\n",
      "torch.Size([2, 1])\n",
      "5\n",
      "torch.Size([2, 1])\n",
      "4\n",
      "torch.Size([2, 1])\n",
      "3\n",
      "torch.Size([2, 1])\n",
      "2\n",
      "torch.Size([2, 1])\n",
      "1\n",
      "torch.Size([2, 1])\n",
      "0\n"
     ]
    }
   ],
   "source": [
    "# generation\n",
    "import torch\n",
    "\n",
    "bz = encoder_hidden_state.shape[0]\n",
    "input_ids = [[0] for _ in range(bz)]  # start token\n",
    "output_ids = [[0] for _ in range(bz)]  # will be appending the generated ids to this\n",
    "\n",
    "n_layers = config.decoder.decoder_layers\n",
    "embed_dim = config.decoder.d_model\n",
    "\n",
    "ks_cache = torch.empty(n_layers, bz, 0, embed_dim)\n",
    "vs_cache = torch.empty(n_layers, bz, 0, embed_dim)\n",
    "kc_cache = torch.empty(n_layers, bz, 0, embed_dim)\n",
    "vc_cache = torch.empty(n_layers, bz, 0, embed_dim)\n",
    "\n",
    "cache = (ks_cache, vs_cache, kc_cache, vc_cache)\n",
    "\n",
    "max_len = 10\n",
    "inp = torch.tensor(input_ids)\n",
    "while True and max_len > 0:\n",
    "  n_inp_tokens = len(input_ids[0])\n",
    "  cross_attention_mask = torch.zeros(1, 1, n_inp_tokens, encoder_hidden_state.shape[1])  # probably will broadcast\n",
    "  self_attention_mask = torch.zeros(1, 1, n_inp_tokens, n_inp_tokens)\n",
    "  \n",
    "  with torch.no_grad():\n",
    "#     inp = torch.tensor(input_ids)\n",
    "    kv_logits, cache = decoder(\n",
    "      inp,\n",
    "      self_attention_mask,\n",
    "      encoder_hidden_state,\n",
    "      cross_attention_mask,\n",
    "      *cache\n",
    "    )\n",
    "    \n",
    "  next_token_ids = kv_logits[:, -1, :].argmax(dim=-1)\n",
    "  break_flag = True\n",
    "  for i, x in enumerate(next_token_ids):\n",
    "    if x != 2 or x !=1 : break_flag=False \n",
    "    output_ids[i].append(x)\n",
    "  inp = next_token_ids.unsqueeze(1)\n",
    "#   print(inp.shape)\n",
    "  max_len -= 1\n",
    "  print(max_len)\n",
    "  if break_flag: break"
   ]
  },
  {
   "cell_type": "code",
   "execution_count": 20,
   "id": "83ea372f",
   "metadata": {},
   "outputs": [
    {
     "name": "stdout",
     "output_type": "stream",
     "text": [
      "<s>can be controlled with text, such as style or\n"
     ]
    }
   ],
   "source": [
    "pred = processor.tokenizer.decode(output_ids[0])\n",
    "print(pred)"
   ]
  },
  {
   "cell_type": "code",
   "execution_count": 23,
   "id": "8c58608a",
   "metadata": {},
   "outputs": [
    {
     "data": {
      "text/plain": [
       "True"
      ]
     },
     "execution_count": 23,
     "metadata": {},
     "output_type": "execute_result"
    }
   ],
   "source": [
    "all(next_token_ids == 457) "
   ]
  },
  {
   "cell_type": "code",
   "execution_count": null,
   "id": "9e9089f5",
   "metadata": {},
   "outputs": [],
   "source": []
  }
 ],
 "metadata": {
  "kernelspec": {
   "display_name": "Python 3 (ipykernel)",
   "language": "python",
   "name": "python3"
  },
  "language_info": {
   "codemirror_mode": {
    "name": "ipython",
    "version": 3
   },
   "file_extension": ".py",
   "mimetype": "text/x-python",
   "name": "python",
   "nbconvert_exporter": "python",
   "pygments_lexer": "ipython3",
   "version": "3.11.9"
  }
 },
 "nbformat": 4,
 "nbformat_minor": 5
}
